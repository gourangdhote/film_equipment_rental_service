{
  "nbformat": 4,
  "nbformat_minor": 0,
  "metadata": {
    "colab": {
      "provenance": [],
      "include_colab_link": true
    },
    "kernelspec": {
      "name": "python3",
      "display_name": "Python 3"
    },
    "language_info": {
      "name": "python"
    }
  },
  "cells": [
    {
      "cell_type": "markdown",
      "metadata": {
        "id": "view-in-github",
        "colab_type": "text"
      },
      "source": [
        "<a href=\"https://colab.research.google.com/github/Dishaa01423/film_equipment_rental_service/blob/main/Assignment_sqlite3.ipynb\" target=\"_parent\"><img src=\"https://colab.research.google.com/assets/colab-badge.svg\" alt=\"Open In Colab\"/></a>"
      ]
    },
    {
      "cell_type": "code",
      "execution_count": null,
      "metadata": {
        "colab": {
          "base_uri": "https://localhost:8080/"
        },
        "id": "FPa8e1sl3bR3",
        "outputId": "88556906-f1ba-4112-83c8-83cd9a3aa5d3"
      },
      "outputs": [
        {
          "output_type": "stream",
          "name": "stdout",
          "text": [
            "Database created successfully.\n"
          ]
        }
      ],
      "source": [
        "import sqlite3\n",
        "import os\n",
        "\n",
        "# Check if the database file exists and remove it if it does\n",
        "if os.path.exists('equipment_rental.db'):\n",
        "    os.remove('equipment_rental.db')\n",
        "\n",
        "# Connect to the database\n",
        "conn = sqlite3.connect('equipment_rental.db')\n",
        "cursor = conn.cursor()\n",
        "\n",
        "# Create the equipment table\n",
        "cursor.execute('''\n",
        "CREATE TABLE IF NOT EXISTS equipment (\n",
        "    id INTEGER PRIMARY KEY AUTOINCREMENT,\n",
        "    name TEXT NOT NULL,\n",
        "    category TEXT,\n",
        "    description TEXT,\n",
        "    daily_rate DECIMAL(10, 2),\n",
        "    availability BOOLEAN,\n",
        "    similar_items TEXT\n",
        ")\n",
        "''')\n",
        "\n",
        "# Commit the changes and close the connection\n",
        "conn.commit()\n",
        "conn.close()\n",
        "\n",
        "print(\"Database created successfully.\")"
      ]
    },
    {
      "cell_type": "code",
      "source": [
        "import sqlite3\n",
        "\n",
        "def add_equipment(name, category, description, daily_rate, availability, similar_items):\n",
        "    conn = sqlite3.connect('equipment_rental.db')\n",
        "    cursor = conn.cursor()\n",
        "\n",
        "    cursor.execute('''\n",
        "    INSERT INTO equipment (name, category, description, daily_rate, availability, similar_items)\n",
        "    VALUES (?, ?, ?, ?, ?, ?)\n",
        "    ''', (name, category, description, daily_rate, availability, similar_items))\n",
        "\n",
        "    conn.commit()\n",
        "    conn.close()\n",
        "    print(f\"Added: {name}\")\n",
        "\n",
        "def view_all_equipment():\n",
        "    conn = sqlite3.connect('equipment_rental.db')\n",
        "    cursor = conn.cursor()\n",
        "\n",
        "    cursor.execute('SELECT * FROM equipment')\n",
        "    all_equipment = cursor.fetchall()\n",
        "\n",
        "    conn.close()\n",
        "\n",
        "    if not all_equipment:\n",
        "        print(\"No equipment in the database.\")\n",
        "    else:\n",
        "        for item in all_equipment:\n",
        "            print(f\"ID: {item[0]}\")\n",
        "            print(f\"Name: {item[1]}\")\n",
        "            print(f\"Category: {item[2]}\")\n",
        "            print(f\"Description: {item[3]}\")\n",
        "            print(f\"Daily Rate: ${item[4]}\")\n",
        "            print(f\"Available: {'Yes' if item[5] else 'No'}\")\n",
        "            print(f\"Similar Items: {item[6]}\")\n",
        "            print(\"----------------------\")\n",
        "\n",
        "def update_equipment(id, name=None, category=None, description=None, daily_rate=None, availability=None, similar_items=None):\n",
        "    conn = sqlite3.connect('equipment_rental.db')\n",
        "    cursor = conn.cursor()\n",
        "\n",
        "    update_fields = []\n",
        "    values = []\n",
        "\n",
        "    if name is not None:\n",
        "        update_fields.append(\"name = ?\")\n",
        "        values.append(name)\n",
        "    if category is not None:\n",
        "        update_fields.append(\"category = ?\")\n",
        "        values.append(category)\n",
        "    if description is not None:\n",
        "        update_fields.append(\"description = ?\")\n",
        "        values.append(description)\n",
        "    if daily_rate is not None:\n",
        "        update_fields.append(\"daily_rate = ?\")\n",
        "        values.append(daily_rate)\n",
        "    if availability is not None:\n",
        "        update_fields.append(\"availability = ?\")\n",
        "        values.append(availability)\n",
        "    if similar_items is not None:\n",
        "        update_fields.append(\"similar_items = ?\")\n",
        "        values.append(similar_items)\n",
        "\n",
        "    if update_fields:\n",
        "        query = f\"UPDATE equipment SET {', '.join(update_fields)} WHERE id = ?\"\n",
        "        values.append(id)\n",
        "        cursor.execute(query, values)\n",
        "        conn.commit()\n",
        "        print(f\"Updated equipment with ID: {id}\")\n",
        "    else:\n",
        "        print(\"No fields to update.\")\n",
        "\n",
        "    conn.close()\n",
        "\n",
        "def delete_equipment(id):\n",
        "    conn = sqlite3.connect('equipment_rental.db')\n",
        "    cursor = conn.cursor()\n",
        "\n",
        "    cursor.execute('DELETE FROM equipment WHERE id = ?', (id,))\n",
        "\n",
        "    if cursor.rowcount > 0:\n",
        "        print(f\"Deleted equipment with ID: {id}\")\n",
        "    else:\n",
        "        print(f\"No equipment found with ID: {id}\")\n",
        "\n",
        "    conn.commit()\n",
        "    conn.close()\n",
        "\n",
        "print(\"Database interaction functions created.\")"
      ],
      "metadata": {
        "colab": {
          "base_uri": "https://localhost:8080/"
        },
        "id": "jvGrDtHH3mOP",
        "outputId": "9b0b1696-b407-4bb0-b74e-277cf690b5e2"
      },
      "execution_count": null,
      "outputs": [
        {
          "output_type": "stream",
          "name": "stdout",
          "text": [
            "Database interaction functions created.\n"
          ]
        }
      ]
    }
  ]
}
